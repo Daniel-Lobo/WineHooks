{
 "cells": [
  {
   "cell_type": "code",
   "execution_count": 14,
   "metadata": {},
   "outputs": [],
   "source": [
    "lvls ='''\n",
    "02_NYC_BatteryPark\n",
    "03_NYC_UNATCOHQ\n",
    "04_NYC_UNATCOHQ\n",
    "05_NYC_UNATCOHQ\n",
    "06_HongKong_Helibase\n",
    "08_NYC_Bar\n",
    "09_NYC_Dockyard\n",
    "10_Paris_Catacombs\n",
    "10_Paris_Chateau\n",
    "10_Paris_Club\n",
    "10_Paris_Metro\n",
    "11_Paris_Cathedral\n",
    "11_Paris_Everett\n",
    "11_Paris_Underground\n",
    "12_Vandenberg_Gas\n",
    "14_OceanLab_Lab\n",
    "14_Vandenberg_Sub\n",
    "15_Area51_Bunker\n",
    "15_Area51_Entrance'''.splitlines()\n"
   ]
  },
  {
   "cell_type": "code",
   "execution_count": 15,
   "metadata": {},
   "outputs": [
    {
     "name": "stdout",
     "output_type": "stream",
     "text": [
      "Aliases[18]=(Command=\"OPEN | OnRelease set InputExt l lvl2\",Alias=lvl1)\n",
      "Aliases[19]=(Command=\"OPEN 02_NYC_BatteryPark| OnRelease set InputExt l lvl3\",Alias=lvl2)\n",
      "Aliases[20]=(Command=\"OPEN 03_NYC_UNATCOHQ| OnRelease set InputExt l lvl4\",Alias=lvl3)\n",
      "Aliases[21]=(Command=\"OPEN 04_NYC_UNATCOHQ| OnRelease set InputExt l lvl5\",Alias=lvl4)\n",
      "Aliases[22]=(Command=\"OPEN 05_NYC_UNATCOHQ| OnRelease set InputExt l lvl6\",Alias=lvl5)\n",
      "Aliases[23]=(Command=\"OPEN 06_HongKong_Helibase| OnRelease set InputExt l lvl7\",Alias=lvl6)\n",
      "Aliases[24]=(Command=\"OPEN 08_NYC_Bar| OnRelease set InputExt l lvl8\",Alias=lvl7)\n",
      "Aliases[25]=(Command=\"OPEN 09_NYC_Dockyard| OnRelease set InputExt l lvl9\",Alias=lvl8)\n",
      "Aliases[26]=(Command=\"OPEN 10_Paris_Catacombs| OnRelease set InputExt l lvl10\",Alias=lvl9)\n",
      "Aliases[27]=(Command=\"OPEN 10_Paris_Chateau| OnRelease set InputExt l lvl11\",Alias=lvl10)\n",
      "Aliases[28]=(Command=\"OPEN 10_Paris_Club| OnRelease set InputExt l lvl12\",Alias=lvl11)\n",
      "Aliases[29]=(Command=\"OPEN 10_Paris_Metro| OnRelease set InputExt l lvl13\",Alias=lvl12)\n",
      "Aliases[30]=(Command=\"OPEN 11_Paris_Cathedral| OnRelease set InputExt l lvl14\",Alias=lvl13)\n",
      "Aliases[31]=(Command=\"OPEN 11_Paris_Everett| OnRelease set InputExt l lvl15\",Alias=lvl14)\n",
      "Aliases[32]=(Command=\"OPEN 11_Paris_Underground| OnRelease set InputExt l lvl16\",Alias=lvl15)\n",
      "Aliases[33]=(Command=\"OPEN 12_Vandenberg_Gas| OnRelease set InputExt l lvl17\",Alias=lvl16)\n",
      "Aliases[34]=(Command=\"OPEN 14_OceanLab_Lab| OnRelease set InputExt l lvl18\",Alias=lvl17)\n",
      "Aliases[35]=(Command=\"OPEN 14_Vandenberg_Sub| OnRelease set InputExt l lvl19\",Alias=lvl18)\n",
      "Aliases[36]=(Command=\"OPEN 15_Area51_Bunker| OnRelease set InputExt l lvl20\",Alias=lvl19)\n",
      "Aliases[37]=(Command=\"OPEN 15_Area51_Entrance| OnRelease set InputExt l lvl21\",Alias=lvl20)\n",
      "l=lvl1\n"
     ]
    }
   ],
   "source": [
    "#print(len(lvls)) \n",
    "cmd   = ''\n",
    "alias = 18\n",
    "index = 1\n",
    "\n",
    "for lvl in lvls:\n",
    "    cmd   += f'Aliases[{alias}]=(Command=\"OPEN {lvl}| OnRelease set InputExt l lvl{index+1}\",Alias=lvl{index})\\n'\n",
    "    index += 1\n",
    "    alias += 1\n",
    "cmd += 'l=lvl1'    \n",
    "\n",
    "print(cmd)"
   ]
  }
 ],
 "metadata": {
  "kernelspec": {
   "display_name": "Python 3",
   "language": "python",
   "name": "python3"
  },
  "language_info": {
   "codemirror_mode": {
    "name": "ipython",
    "version": 3
   },
   "file_extension": ".py",
   "mimetype": "text/x-python",
   "name": "python",
   "nbconvert_exporter": "python",
   "pygments_lexer": "ipython3",
   "version": "3.10.7"
  },
  "orig_nbformat": 4,
  "vscode": {
   "interpreter": {
    "hash": "633734e2c6b2a7eee9d700252dbf32016a002039ec9ff9fef01cbc6ceef9d046"
   }
  }
 },
 "nbformat": 4,
 "nbformat_minor": 2
}
